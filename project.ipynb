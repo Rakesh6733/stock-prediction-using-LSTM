{
  "nbformat": 4,
  "nbformat_minor": 0,
  "metadata": {
    "colab": {
      "provenance": [],
      "mount_file_id": "184jC1bTGGRB8barg2TpmOjrGf7946Dqm",
      "authorship_tag": "ABX9TyPClSbTou/3wo9mqoXCc9wJ",
      "include_colab_link": true
    },
    "kernelspec": {
      "name": "python3",
      "display_name": "Python 3"
    },
    "language_info": {
      "name": "python"
    },
    "accelerator": "GPU",
    "gpuClass": "standard"
  },
  "cells": [
    {
      "cell_type": "markdown",
      "metadata": {
        "id": "view-in-github",
        "colab_type": "text"
      },
      "source": [
        "<a href=\"https://colab.research.google.com/github/Rakesh6733/stock-prediction-using-LSTM/blob/main/project.ipynb\" target=\"_parent\"><img src=\"https://colab.research.google.com/assets/colab-badge.svg\" alt=\"Open In Colab\"/></a>"
      ]
    },
    {
      "cell_type": "code",
      "source": [
        "import numpy as np\n",
        "import pandas as pd\n",
        "import matplotlib.pyplot as plt\n",
        "from sklearn.preprocessing import MinMaxScaler\n",
        "\n",
        "pd.options.display.max_rows = 1000\n",
        "dataset_train = pd.read_csv(\"/content/drive/MyDrive/Manipal/Google_Stock_Price_Train.csv\")\n",
        "data = pd.DataFrame(dataset_train)\n",
        "print(data)"
      ],
      "metadata": {
        "id": "7_QFnuCzHw9q",
        "colab": {
          "base_uri": "https://localhost:8080/"
        },
        "outputId": "6d7f45bf-4a84-427b-b6c8-0a9fd2a718a5"
      },
      "execution_count": null,
      "outputs": [
        {
          "output_type": "stream",
          "name": "stdout",
          "text": [
            "            Date    Open    High     Low   Close      Volume\n",
            "0       1/3/2012  325.25  332.83  324.97  663.59   7,380,500\n",
            "1       1/4/2012  331.27  333.87  329.08  666.45   5,749,400\n",
            "2       1/5/2012  329.83  330.75  326.89  657.21   6,590,300\n",
            "3       1/6/2012  328.34  328.77  323.68  648.24   5,405,900\n",
            "4       1/9/2012  322.04  322.29  309.46  620.76  11,688,800\n",
            "...          ...     ...     ...     ...     ...         ...\n",
            "1253  12/23/2016  790.90  792.74  787.28  789.91     623,400\n",
            "1254  12/27/2016  790.68  797.86  787.66  791.55     789,100\n",
            "1255  12/28/2016  793.70  794.23  783.20  785.05   1,153,800\n",
            "1256  12/29/2016  783.33  785.93  778.92  782.79     744,300\n",
            "1257  12/30/2016  782.75  782.78  770.41  771.82   1,770,000\n",
            "\n",
            "[1258 rows x 6 columns]\n"
          ]
        }
      ]
    },
    {
      "cell_type": "code",
      "source": [
        "training_set = dataset_train.iloc[:,1:2].values\n",
        "\n",
        "\n",
        "# Normalizing the dataset\n",
        "# fit_transform is used in training the data whereas transform is used in testing the data\n",
        "# fit_transform function is the combination of fit and transform functions\n",
        "# fit method measures the mean and variance of the features\n",
        "# transform method use the mean and variance to transform the data\n",
        "scaler = MinMaxScaler(feature_range = (0,1))\n",
        "scaled_training_set = scaler.fit_transform(training_set)\n",
        "print(scaled_training_set)"
      ],
      "metadata": {
        "id": "FFBBz-lZHx3b",
        "colab": {
          "base_uri": "https://localhost:8080/"
        },
        "outputId": "c8f9dc89-b24d-49eb-dce0-bc0cdb4a0608"
      },
      "execution_count": null,
      "outputs": [
        {
          "output_type": "stream",
          "name": "stdout",
          "text": [
            "[[0.08581368]\n",
            " [0.09701243]\n",
            " [0.09433366]\n",
            " ...\n",
            " [0.95725128]\n",
            " [0.93796041]\n",
            " [0.93688146]]\n"
          ]
        }
      ]
    },
    {
      "cell_type": "code",
      "source": [
        "\n",
        "x_train = []\n",
        "y_train = []\n",
        "for i in range(60, 1258):\n",
        "    x_train.append(scaled_training_set[i-60:i,0]) # starts from 1 and ends at 1198 which means total rows 1198 and each row contains 60 elements\n",
        "    y_train.append(scaled_training_set[i, 0]) # starts from 60 and ends at 1258 which means total rows 1198\n",
        "\n",
        "x_train = np.array(x_train)\n",
        "y_train = np.array(y_train)\n",
        "print(x_train)\n",
        "print(\"------------\")\n",
        "print(y_train)\n"
      ],
      "metadata": {
        "id": "vDaBnlUaH4Hc",
        "colab": {
          "base_uri": "https://localhost:8080/"
        },
        "outputId": "e6eacaf0-d4cf-4ce7-d5a7-85e939dfa6b0"
      },
      "execution_count": null,
      "outputs": [
        {
          "output_type": "stream",
          "name": "stdout",
          "text": [
            "[[0.08581368 0.09701243 0.09433366 ... 0.07846566 0.08034452 0.08497656]\n",
            " [0.09701243 0.09433366 0.09156187 ... 0.08034452 0.08497656 0.08627874]\n",
            " [0.09433366 0.09156187 0.07984225 ... 0.08497656 0.08627874 0.08471612]\n",
            " ...\n",
            " [0.92106928 0.92438053 0.93048218 ... 0.95475854 0.95204256 0.95163331]\n",
            " [0.92438053 0.93048218 0.9299055  ... 0.95204256 0.95163331 0.95725128]\n",
            " [0.93048218 0.9299055  0.93113327 ... 0.95163331 0.95725128 0.93796041]]\n",
            "------------\n",
            "[0.08627874 0.08471612 0.07454052 ... 0.95725128 0.93796041 0.93688146]\n"
          ]
        }
      ]
    },
    {
      "cell_type": "code",
      "source": [
        "print(x_train.shape)\n",
        "print(y_train.shape)"
      ],
      "metadata": {
        "id": "6vRsUks1IK97",
        "colab": {
          "base_uri": "https://localhost:8080/"
        },
        "outputId": "f451d88c-a90e-42fc-92b1-e5ca831601f1"
      },
      "execution_count": null,
      "outputs": [
        {
          "output_type": "stream",
          "name": "stdout",
          "text": [
            "(1198, 60)\n",
            "(1198,)\n"
          ]
        }
      ]
    },
    {
      "cell_type": "code",
      "source": [
        "x_train = np.reshape(x_train,(x_train.shape[0], x_train.shape[1], 1))\n",
        "print(x_train)\n",
        "print(x_train.shape)"
      ],
      "metadata": {
        "id": "UpB2wY_8H5Qy",
        "colab": {
          "base_uri": "https://localhost:8080/"
        },
        "outputId": "04c5e70f-f6f1-40b5-c91b-1c7782e0f71e"
      },
      "execution_count": null,
      "outputs": [
        {
          "output_type": "stream",
          "name": "stdout",
          "text": [
            "[[[0.08581368]\n",
            "  [0.09701243]\n",
            "  [0.09433366]\n",
            "  ...\n",
            "  [0.07846566]\n",
            "  [0.08034452]\n",
            "  [0.08497656]]\n",
            "\n",
            " [[0.09701243]\n",
            "  [0.09433366]\n",
            "  [0.09156187]\n",
            "  ...\n",
            "  [0.08034452]\n",
            "  [0.08497656]\n",
            "  [0.08627874]]\n",
            "\n",
            " [[0.09433366]\n",
            "  [0.09156187]\n",
            "  [0.07984225]\n",
            "  ...\n",
            "  [0.08497656]\n",
            "  [0.08627874]\n",
            "  [0.08471612]]\n",
            "\n",
            " ...\n",
            "\n",
            " [[0.92106928]\n",
            "  [0.92438053]\n",
            "  [0.93048218]\n",
            "  ...\n",
            "  [0.95475854]\n",
            "  [0.95204256]\n",
            "  [0.95163331]]\n",
            "\n",
            " [[0.92438053]\n",
            "  [0.93048218]\n",
            "  [0.9299055 ]\n",
            "  ...\n",
            "  [0.95204256]\n",
            "  [0.95163331]\n",
            "  [0.95725128]]\n",
            "\n",
            " [[0.93048218]\n",
            "  [0.9299055 ]\n",
            "  [0.93113327]\n",
            "  ...\n",
            "  [0.95163331]\n",
            "  [0.95725128]\n",
            "  [0.93796041]]]\n",
            "(1198, 60, 1)\n"
          ]
        }
      ]
    },
    {
      "cell_type": "code",
      "source": [
        "\n",
        "import tensorflow as tf\n",
        "from tensorflow import keras\n",
        "from keras import layers\n",
        "from keras.models import Sequential\n",
        "from keras.layers import LSTM,Dense,Dropout"
      ],
      "metadata": {
        "id": "80ZUkV1ZIMaj"
      },
      "execution_count": null,
      "outputs": []
    },
    {
      "cell_type": "code",
      "source": [
        "# Creating the model\n",
        "model = keras.Sequential()\n",
        "\n",
        "\n",
        "model.add(layers.LSTM(units = 50, return_sequences = True, input_shape = (x_train.shape[1], 1)))\n",
        "model.add(Dropout(0.2)) # Implementing the dropout layer to the LSTM layer\n",
        "\n",
        "model.add(layers.LSTM(units=50, return_sequences = True))\n",
        "model.add(Dropout(0.2)) # Implementing the dropout layer to the LSTM layer\n",
        "\n",
        "model.add(layers.LSTM(units = 50, return_sequences = True))\n",
        "model.add(Dropout(0.2)) # Implementing the dropout layer to the LSTM layer\n",
        "\n",
        "model.add(LSTM(units = 50))\n",
        "model.add(Dropout(0.2)) # Implementing the dropout layer to the LSTM layer\n",
        "\n",
        "model.add(Dense(units = 1)) # Adding the Dense layer\n",
        "# Here we are adding the dense layer to previous layers to get single output value\n",
        "\n",
        "model.summary()"
      ],
      "metadata": {
        "id": "5oZ1tObeI4yw",
        "colab": {
          "base_uri": "https://localhost:8080/"
        },
        "outputId": "366f119f-3cd0-4751-97ce-a08885139d36"
      },
      "execution_count": null,
      "outputs": [
        {
          "output_type": "stream",
          "name": "stdout",
          "text": [
            "Model: \"sequential\"\n",
            "_________________________________________________________________\n",
            " Layer (type)                Output Shape              Param #   \n",
            "=================================================================\n",
            " lstm (LSTM)                 (None, 60, 50)            10400     \n",
            "                                                                 \n",
            " dropout (Dropout)           (None, 60, 50)            0         \n",
            "                                                                 \n",
            " lstm_1 (LSTM)               (None, 60, 50)            20200     \n",
            "                                                                 \n",
            " dropout_1 (Dropout)         (None, 60, 50)            0         \n",
            "                                                                 \n",
            " lstm_2 (LSTM)               (None, 60, 50)            20200     \n",
            "                                                                 \n",
            " dropout_2 (Dropout)         (None, 60, 50)            0         \n",
            "                                                                 \n",
            " lstm_3 (LSTM)               (None, 50)                20200     \n",
            "                                                                 \n",
            " dropout_3 (Dropout)         (None, 50)                0         \n",
            "                                                                 \n",
            " dense (Dense)               (None, 1)                 51        \n",
            "                                                                 \n",
            "=================================================================\n",
            "Total params: 71,051\n",
            "Trainable params: 71,051\n",
            "Non-trainable params: 0\n",
            "_________________________________________________________________\n"
          ]
        }
      ]
    },
    {
      "cell_type": "code",
      "source": [
        "# Fitting the Model\n",
        "model.compile(optimizer = 'adam', loss = 'mean_squared_error') # Used Mean square error for performance measure of regression model\n",
        "model.fit(x_train, y_train, epochs=100, batch_size=32) # Training the model with model.fit() method\n"
      ],
      "metadata": {
        "id": "zS4GJf3pJFt_",
        "colab": {
          "base_uri": "https://localhost:8080/"
        },
        "outputId": "7be8cd28-8d5f-47ad-e2a0-928a3c71d4b2"
      },
      "execution_count": null,
      "outputs": [
        {
          "output_type": "stream",
          "name": "stdout",
          "text": [
            "Epoch 1/100\n",
            "24/24 [==============================] - 11s 22ms/step - loss: 0.0639\n",
            "Epoch 2/100\n",
            "24/24 [==============================] - 1s 21ms/step - loss: 0.0098\n",
            "Epoch 3/100\n",
            "24/24 [==============================] - 0s 20ms/step - loss: 0.0059\n",
            "Epoch 4/100\n",
            "24/24 [==============================] - 0s 21ms/step - loss: 0.0055\n",
            "Epoch 5/100\n",
            "24/24 [==============================] - 0s 20ms/step - loss: 0.0051\n",
            "Epoch 6/100\n",
            "24/24 [==============================] - 0s 20ms/step - loss: 0.0049\n",
            "Epoch 7/100\n",
            "24/24 [==============================] - 1s 22ms/step - loss: 0.0049\n",
            "Epoch 8/100\n",
            "24/24 [==============================] - 0s 15ms/step - loss: 0.0050\n",
            "Epoch 9/100\n",
            "24/24 [==============================] - 0s 15ms/step - loss: 0.0045\n",
            "Epoch 10/100\n",
            "24/24 [==============================] - 0s 15ms/step - loss: 0.0048\n",
            "Epoch 11/100\n",
            "24/24 [==============================] - 0s 15ms/step - loss: 0.0047\n",
            "Epoch 12/100\n",
            "24/24 [==============================] - 0s 15ms/step - loss: 0.0042\n",
            "Epoch 13/100\n",
            "24/24 [==============================] - 0s 14ms/step - loss: 0.0051\n",
            "Epoch 14/100\n",
            "24/24 [==============================] - 0s 15ms/step - loss: 0.0041\n",
            "Epoch 15/100\n",
            "24/24 [==============================] - 0s 14ms/step - loss: 0.0039\n",
            "Epoch 16/100\n",
            "24/24 [==============================] - 0s 14ms/step - loss: 0.0042\n",
            "Epoch 17/100\n",
            "24/24 [==============================] - 0s 15ms/step - loss: 0.0041\n",
            "Epoch 18/100\n",
            "24/24 [==============================] - 0s 15ms/step - loss: 0.0040\n",
            "Epoch 19/100\n",
            "24/24 [==============================] - 0s 14ms/step - loss: 0.0039\n",
            "Epoch 20/100\n",
            "24/24 [==============================] - 0s 14ms/step - loss: 0.0038\n",
            "Epoch 21/100\n",
            "24/24 [==============================] - 0s 14ms/step - loss: 0.0045\n",
            "Epoch 22/100\n",
            "24/24 [==============================] - 0s 14ms/step - loss: 0.0042\n",
            "Epoch 23/100\n",
            "24/24 [==============================] - 0s 15ms/step - loss: 0.0037\n",
            "Epoch 24/100\n",
            "24/24 [==============================] - 0s 14ms/step - loss: 0.0034\n",
            "Epoch 25/100\n",
            "24/24 [==============================] - 0s 15ms/step - loss: 0.0036\n",
            "Epoch 26/100\n",
            "24/24 [==============================] - 0s 15ms/step - loss: 0.0032\n",
            "Epoch 27/100\n",
            "24/24 [==============================] - 0s 15ms/step - loss: 0.0035\n",
            "Epoch 28/100\n",
            "24/24 [==============================] - 0s 15ms/step - loss: 0.0036\n",
            "Epoch 29/100\n",
            "24/24 [==============================] - 0s 14ms/step - loss: 0.0032\n",
            "Epoch 30/100\n",
            "24/24 [==============================] - 0s 15ms/step - loss: 0.0034\n",
            "Epoch 31/100\n",
            "24/24 [==============================] - 0s 15ms/step - loss: 0.0034\n",
            "Epoch 32/100\n",
            "24/24 [==============================] - 0s 15ms/step - loss: 0.0031\n",
            "Epoch 33/100\n",
            "24/24 [==============================] - 0s 15ms/step - loss: 0.0030\n",
            "Epoch 34/100\n",
            "24/24 [==============================] - 0s 15ms/step - loss: 0.0031\n",
            "Epoch 35/100\n",
            "24/24 [==============================] - 0s 14ms/step - loss: 0.0030\n",
            "Epoch 36/100\n",
            "24/24 [==============================] - 0s 14ms/step - loss: 0.0030\n",
            "Epoch 37/100\n",
            "24/24 [==============================] - 0s 15ms/step - loss: 0.0032\n",
            "Epoch 38/100\n",
            "24/24 [==============================] - 0s 14ms/step - loss: 0.0038\n",
            "Epoch 39/100\n",
            "24/24 [==============================] - 0s 15ms/step - loss: 0.0032\n",
            "Epoch 40/100\n",
            "24/24 [==============================] - 0s 15ms/step - loss: 0.0032\n",
            "Epoch 41/100\n",
            "24/24 [==============================] - 0s 14ms/step - loss: 0.0030\n",
            "Epoch 42/100\n",
            "24/24 [==============================] - 0s 15ms/step - loss: 0.0029\n",
            "Epoch 43/100\n",
            "24/24 [==============================] - 0s 14ms/step - loss: 0.0031\n",
            "Epoch 44/100\n",
            "24/24 [==============================] - 0s 14ms/step - loss: 0.0027\n",
            "Epoch 45/100\n",
            "24/24 [==============================] - 0s 15ms/step - loss: 0.0028\n",
            "Epoch 46/100\n",
            "24/24 [==============================] - 0s 14ms/step - loss: 0.0031\n",
            "Epoch 47/100\n",
            "24/24 [==============================] - 0s 14ms/step - loss: 0.0029\n",
            "Epoch 48/100\n",
            "24/24 [==============================] - 0s 15ms/step - loss: 0.0029\n",
            "Epoch 49/100\n",
            "24/24 [==============================] - 0s 14ms/step - loss: 0.0029\n",
            "Epoch 50/100\n",
            "24/24 [==============================] - 0s 14ms/step - loss: 0.0031\n",
            "Epoch 51/100\n",
            "24/24 [==============================] - 0s 15ms/step - loss: 0.0025\n",
            "Epoch 52/100\n",
            "24/24 [==============================] - 0s 14ms/step - loss: 0.0027\n",
            "Epoch 53/100\n",
            "24/24 [==============================] - 0s 14ms/step - loss: 0.0027\n",
            "Epoch 54/100\n",
            "24/24 [==============================] - 0s 15ms/step - loss: 0.0025\n",
            "Epoch 55/100\n",
            "24/24 [==============================] - 0s 14ms/step - loss: 0.0028\n",
            "Epoch 56/100\n",
            "24/24 [==============================] - 0s 15ms/step - loss: 0.0026\n",
            "Epoch 57/100\n",
            "24/24 [==============================] - 0s 17ms/step - loss: 0.0025\n",
            "Epoch 58/100\n",
            "24/24 [==============================] - 0s 15ms/step - loss: 0.0025\n",
            "Epoch 59/100\n",
            "24/24 [==============================] - 0s 15ms/step - loss: 0.0026\n",
            "Epoch 60/100\n",
            "24/24 [==============================] - 0s 14ms/step - loss: 0.0024\n",
            "Epoch 61/100\n",
            "24/24 [==============================] - 0s 14ms/step - loss: 0.0026\n",
            "Epoch 62/100\n",
            "24/24 [==============================] - 0s 15ms/step - loss: 0.0027\n",
            "Epoch 63/100\n",
            "24/24 [==============================] - 0s 15ms/step - loss: 0.0026\n",
            "Epoch 64/100\n",
            "24/24 [==============================] - 0s 15ms/step - loss: 0.0025\n",
            "Epoch 65/100\n",
            "24/24 [==============================] - 0s 15ms/step - loss: 0.0025\n",
            "Epoch 66/100\n",
            "24/24 [==============================] - 0s 15ms/step - loss: 0.0025\n",
            "Epoch 67/100\n",
            "24/24 [==============================] - 0s 15ms/step - loss: 0.0026\n",
            "Epoch 68/100\n",
            "24/24 [==============================] - 0s 16ms/step - loss: 0.0024\n",
            "Epoch 69/100\n",
            "24/24 [==============================] - 0s 15ms/step - loss: 0.0028\n",
            "Epoch 70/100\n",
            "24/24 [==============================] - 0s 15ms/step - loss: 0.0024\n",
            "Epoch 71/100\n",
            "24/24 [==============================] - 0s 15ms/step - loss: 0.0025\n",
            "Epoch 72/100\n",
            "24/24 [==============================] - 0s 15ms/step - loss: 0.0024\n",
            "Epoch 73/100\n",
            "24/24 [==============================] - 0s 16ms/step - loss: 0.0021\n",
            "Epoch 74/100\n",
            "24/24 [==============================] - 0s 15ms/step - loss: 0.0024\n",
            "Epoch 75/100\n",
            "24/24 [==============================] - 0s 14ms/step - loss: 0.0024\n",
            "Epoch 76/100\n",
            "24/24 [==============================] - 0s 15ms/step - loss: 0.0022\n",
            "Epoch 77/100\n",
            "24/24 [==============================] - 0s 15ms/step - loss: 0.0023\n",
            "Epoch 78/100\n",
            "24/24 [==============================] - 0s 15ms/step - loss: 0.0024\n",
            "Epoch 79/100\n",
            "24/24 [==============================] - 0s 15ms/step - loss: 0.0024\n",
            "Epoch 80/100\n",
            "24/24 [==============================] - 0s 15ms/step - loss: 0.0022\n",
            "Epoch 81/100\n",
            "24/24 [==============================] - 0s 15ms/step - loss: 0.0021\n",
            "Epoch 82/100\n",
            "24/24 [==============================] - 0s 15ms/step - loss: 0.0022\n",
            "Epoch 83/100\n",
            "24/24 [==============================] - 0s 15ms/step - loss: 0.0021\n",
            "Epoch 84/100\n",
            "24/24 [==============================] - 0s 21ms/step - loss: 0.0022\n",
            "Epoch 85/100\n",
            "24/24 [==============================] - 0s 18ms/step - loss: 0.0021\n",
            "Epoch 86/100\n",
            "24/24 [==============================] - 1s 24ms/step - loss: 0.0020\n",
            "Epoch 87/100\n",
            "24/24 [==============================] - 0s 15ms/step - loss: 0.0019\n",
            "Epoch 88/100\n",
            "24/24 [==============================] - 0s 15ms/step - loss: 0.0018\n",
            "Epoch 89/100\n",
            "24/24 [==============================] - 0s 15ms/step - loss: 0.0022\n",
            "Epoch 90/100\n",
            "24/24 [==============================] - 0s 15ms/step - loss: 0.0022\n",
            "Epoch 91/100\n",
            "24/24 [==============================] - 0s 16ms/step - loss: 0.0022\n",
            "Epoch 92/100\n",
            "24/24 [==============================] - 0s 15ms/step - loss: 0.0019\n",
            "Epoch 93/100\n",
            "24/24 [==============================] - 0s 15ms/step - loss: 0.0017\n",
            "Epoch 94/100\n",
            "24/24 [==============================] - 0s 15ms/step - loss: 0.0018\n",
            "Epoch 95/100\n",
            "24/24 [==============================] - 0s 15ms/step - loss: 0.0019\n",
            "Epoch 96/100\n",
            "24/24 [==============================] - 0s 14ms/step - loss: 0.0017\n",
            "Epoch 97/100\n",
            "24/24 [==============================] - 0s 15ms/step - loss: 0.0020\n",
            "Epoch 98/100\n",
            "24/24 [==============================] - 0s 14ms/step - loss: 0.0019\n",
            "Epoch 99/100\n",
            "24/24 [==============================] - 0s 14ms/step - loss: 0.0018\n",
            "Epoch 100/100\n",
            "24/24 [==============================] - 0s 14ms/step - loss: 0.0020\n"
          ]
        },
        {
          "output_type": "execute_result",
          "data": {
            "text/plain": [
              "<keras.callbacks.History at 0x7facba297950>"
            ]
          },
          "metadata": {},
          "execution_count": 10
        }
      ]
    },
    {
      "cell_type": "code",
      "source": [
        "dataset_test = pd.read_csv(\"/content/drive/MyDrive/Manipal/Google_Stock_Price_Test.csv\")\n",
        "actual_stock_price = dataset_test.iloc[:, 1:2].values\n",
        "data_test = pd.DataFrame(actual_stock_price)\n",
        "print(data_test)"
      ],
      "metadata": {
        "id": "QTaPvGS9Jaa2",
        "colab": {
          "base_uri": "https://localhost:8080/"
        },
        "outputId": "2f0e4937-13b5-46cd-90bb-040342d42119"
      },
      "execution_count": null,
      "outputs": [
        {
          "output_type": "stream",
          "name": "stdout",
          "text": [
            "         0\n",
            "0   778.81\n",
            "1   788.36\n",
            "2   786.08\n",
            "3   795.26\n",
            "4   806.40\n",
            "5   807.86\n",
            "6   805.00\n",
            "7   807.14\n",
            "8   807.48\n",
            "9   807.08\n",
            "10  805.81\n",
            "11  805.12\n",
            "12  806.91\n",
            "13  807.25\n",
            "14  822.30\n",
            "15  829.62\n",
            "16  837.81\n",
            "17  834.71\n",
            "18  814.66\n",
            "19  796.86\n"
          ]
        }
      ]
    },
    {
      "cell_type": "code",
      "source": [
        "\n",
        "# concatinating the Open column from train and Open column from testing and representing in the axis = 0\n",
        "dataset_total = pd.concat((dataset_train['Open'], dataset_test['Open']), axis = 0) # 1258 + 20 = 1278\n",
        "inputs = dataset_total[len(dataset_total) - len(dataset_test) - 60:].values # 1278 - 20 - 60 = 1198\n",
        "print(inputs)\n",
        "print(\"-------\")\n",
        "print(dataset_total.shape)\n",
        "print(inputs.shape)\n",
        "\n"
      ],
      "metadata": {
        "id": "uFRw1C1VJmGZ",
        "colab": {
          "base_uri": "https://localhost:8080/"
        },
        "outputId": "28cf2ff4-c779-44c9-c099-35386c0f0462"
      },
      "execution_count": null,
      "outputs": [
        {
          "output_type": "stream",
          "name": "stdout",
          "text": [
            "[779.   779.66 777.71 786.66 783.76 781.22 781.65 779.8  787.85 798.24\n",
            " 803.3  795.   804.9  816.68 806.34 801.   808.35 795.47 782.89 778.2\n",
            " 767.25 750.66 774.5  783.4  779.94 791.17 756.54 755.6  746.97 755.2\n",
            " 766.92 771.37 762.61 772.63 767.73 764.26 760.   771.53 770.07 757.44\n",
            " 744.59 757.71 764.73 761.   772.48 780.   785.04 793.9  797.4  797.34\n",
            " 800.4  790.22 796.76 795.84 792.36 790.9  790.68 793.7  783.33 782.75\n",
            " 778.81 788.36 786.08 795.26 806.4  807.86 805.   807.14 807.48 807.08\n",
            " 805.81 805.12 806.91 807.25 822.3  829.62 837.81 834.71 814.66 796.86]\n",
            "-------\n",
            "(1278,)\n",
            "(80,)\n"
          ]
        }
      ]
    },
    {
      "cell_type": "code",
      "source": [
        "\n",
        "inputs = inputs.reshape(-1, 1) # Here -1 means that we let the numpy to figure it \n",
        "inputs = scaler.transform(inputs)\n",
        "print(inputs.shape)\n",
        "print(inputs)"
      ],
      "metadata": {
        "id": "qWwZJGnxJ-7h",
        "colab": {
          "base_uri": "https://localhost:8080/"
        },
        "outputId": "b53657c9-638d-47d8-eb69-d4eefc377157"
      },
      "execution_count": null,
      "outputs": [
        {
          "output_type": "stream",
          "name": "stdout",
          "text": [
            "(80, 1)\n",
            "[[0.9299055 ]\n",
            " [0.93113327]\n",
            " [0.92750577]\n",
            " [0.94415507]\n",
            " [0.93876032]\n",
            " [0.93403527]\n",
            " [0.93483518]\n",
            " [0.9313937 ]\n",
            " [0.94636878]\n",
            " [0.96569685]\n",
            " [0.97510976]\n",
            " [0.95966962]\n",
            " [0.97808617]\n",
            " [1.        ]\n",
            " [0.98076494]\n",
            " [0.97083116]\n",
            " [0.98450406]\n",
            " [0.96054394]\n",
            " [0.9371419 ]\n",
            " [0.92841729]\n",
            " [0.90804747]\n",
            " [0.8771858 ]\n",
            " [0.92153434]\n",
            " [0.93809063]\n",
            " [0.93165414]\n",
            " [0.95254483]\n",
            " [0.88812412]\n",
            " [0.88637547]\n",
            " [0.87032145]\n",
            " [0.88563137]\n",
            " [0.90743359]\n",
            " [0.91571173]\n",
            " [0.89941588]\n",
            " [0.91805566]\n",
            " [0.9089404 ]\n",
            " [0.9024853 ]\n",
            " [0.89456061]\n",
            " [0.91600938]\n",
            " [0.9132934 ]\n",
            " [0.88979835]\n",
            " [0.86589404]\n",
            " [0.89030062]\n",
            " [0.90335962]\n",
            " [0.89642086]\n",
            " [0.91777662]\n",
            " [0.93176576]\n",
            " [0.94114145]\n",
            " [0.95762334]\n",
            " [0.96413424]\n",
            " [0.96402262]\n",
            " [0.96971501]\n",
            " [0.95077759]\n",
            " [0.96294367]\n",
            " [0.96123223]\n",
            " [0.95475854]\n",
            " [0.95204256]\n",
            " [0.95163331]\n",
            " [0.95725128]\n",
            " [0.93796041]\n",
            " [0.93688146]\n",
            " [0.92955205]\n",
            " [0.94731751]\n",
            " [0.94307612]\n",
            " [0.96015329]\n",
            " [0.98087655]\n",
            " [0.98359253]\n",
            " [0.97827219]\n",
            " [0.98225314]\n",
            " [0.98288563]\n",
            " [0.98214153]\n",
            " [0.979779  ]\n",
            " [0.97849542]\n",
            " [0.98182528]\n",
            " [0.98245777]\n",
            " [1.01045465]\n",
            " [1.02407173]\n",
            " [1.03930724]\n",
            " [1.03354044]\n",
            " [0.99624228]\n",
            " [0.9631297 ]]\n"
          ]
        }
      ]
    },
    {
      "cell_type": "code",
      "source": [
        "\n",
        "X_test = []\n",
        "for i in range(60,80):\n",
        "    X_test.append(inputs[i-60:i, 0])\n",
        "X_test = np.array(X_test)\n",
        "print(X_test.shape)\n",
        "X_test = np.reshape(X_test, (X_test.shape[0], X_test.shape[1], 1))"
      ],
      "metadata": {
        "id": "goX0bh7KKXYR",
        "colab": {
          "base_uri": "https://localhost:8080/"
        },
        "outputId": "1f46e39d-642e-491b-ff1e-849d778eb6ec"
      },
      "execution_count": null,
      "outputs": [
        {
          "output_type": "stream",
          "name": "stdout",
          "text": [
            "(20, 60)\n"
          ]
        }
      ]
    },
    {
      "cell_type": "code",
      "source": [
        "\n",
        "predicted_stock_price = model.predict(X_test) # model is created and fitted with trained data and used for making predictions\n",
        "predicted_stock_price = scaler.inverse_transform(predicted_stock_price) # It undo the scaling which means it converts again into stock prices\n",
        "print(predicted_stock_price)\n",
        "\n"
      ],
      "metadata": {
        "id": "3yqR4LVkKdV2",
        "colab": {
          "base_uri": "https://localhost:8080/"
        },
        "outputId": "6f5c26c2-7c53-45af-c96f-96504591f4e6"
      },
      "execution_count": null,
      "outputs": [
        {
          "output_type": "stream",
          "name": "stdout",
          "text": [
            "1/1 [==============================] - 1s 1s/step\n",
            "[[773.487  ]\n",
            " [770.8514 ]\n",
            " [771.4706 ]\n",
            " [772.5438 ]\n",
            " [775.52496]\n",
            " [780.9278 ]\n",
            " [785.3293 ]\n",
            " [786.58966]\n",
            " [786.776  ]\n",
            " [786.7834 ]\n",
            " [786.8645 ]\n",
            " [786.8786 ]\n",
            " [786.9593 ]\n",
            " [787.7683 ]\n",
            " [788.82764]\n",
            " [793.75256]\n",
            " [800.2279 ]\n",
            " [806.76263]\n",
            " [809.585  ]\n",
            " [804.4981 ]]\n"
          ]
        }
      ]
    },
    {
      "cell_type": "markdown",
      "source": [],
      "metadata": {
        "id": "cB-rA4CtT3c5"
      }
    },
    {
      "cell_type": "code",
      "source": [
        "plt.plot(actual_stock_price, color = 'red', label = 'Actual Google Stock Price')\n",
        "plt.plot(predicted_stock_price, color = 'blue', label = 'Predicted Google Stock Price')\n",
        "plt.title('Google Stock Price Prediction')\n",
        "plt.xlabel('Time')\n",
        "plt.ylabel('Google Stock Price')\n",
        "plt.legend() "
      ],
      "metadata": {
        "id": "47nfL37NKuXq",
        "colab": {
          "base_uri": "https://localhost:8080/",
          "height": 312
        },
        "outputId": "fba67eaa-f465-4b3c-89df-89a2e8c83c67"
      },
      "execution_count": null,
      "outputs": [
        {
          "output_type": "execute_result",
          "data": {
            "text/plain": [
              "<matplotlib.legend.Legend at 0x7fd8e0dce850>"
            ]
          },
          "metadata": {},
          "execution_count": 17
        },
        {
          "output_type": "display_data",
          "data": {
            "text/plain": [
              "<Figure size 432x288 with 1 Axes>"
            ],
            "image/png": "[encoded data removed]"
          },
          "metadata": {
            "needs_background": "light"
          }
        }
      ]
    },
    {
      "cell_type": "code",
      "source": [],
      "metadata": {
        "id": "lbXPQhqbKySz"
      },
      "execution_count": null,
      "outputs": []
    }
  ]
}